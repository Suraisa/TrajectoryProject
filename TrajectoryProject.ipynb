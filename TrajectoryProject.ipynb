{
 "cells": [
  {
   "cell_type": "markdown",
   "metadata": {},
   "source": [
    "# Projet trajectoire\n",
    "## *Affichage des décollages et atterissages*\n",
    "\n",
    "Le projet s'est déroulé en plusieurs étapes :\n",
    "\n",
    "- Il a fallu tout d'abord réceptionner les informations d'avions en vol à l'aide d'un dongle RTL et du logiciel Dump1090.\n",
    "\n",
    "- Suite à cela, nous avons fusionné les données issues des différents groupes de projet.\n",
    "\n",
    "- Puis nous avons récupéré les shapefiles afin de construire un fond de carte centré sur le département de l'île de France.\n",
    "\n",
    "- Enfin nous avons développé une librairie permettant l'extraction des données ainsi que le traitement afin d'afficher une carte comportant les avions effectuants des atterrissages et des décollages.\n",
    "\n",
    "Ici la fonction planes_mapping de ProjectManager permet de réaliser toutes les actions d'un coup et donc d'obtenir le rendu souhaité."
   ]
  },
  {
   "cell_type": "code",
   "execution_count": null,
   "metadata": {},
   "outputs": [
    {
     "name": "stdout",
     "output_type": "stream",
     "text": [
      "Setup map with shapefiles.\n",
      "Get all flights infos.\n",
      "Find all take off and landing flights.\n",
      "\tProcess file 2 out of 7"
     ]
    }
   ],
   "source": [
    "from Trajectory_Gomes_Yune import ProjectManager as pm\n",
    "\n",
    "pm.planes_mapping()"
   ]
  }
 ],
 "metadata": {
  "kernelspec": {
   "display_name": "Python 3",
   "language": "python",
   "name": "python3"
  },
  "language_info": {
   "codemirror_mode": {
    "name": "ipython",
    "version": 3
   },
   "file_extension": ".py",
   "mimetype": "text/x-python",
   "name": "python",
   "nbconvert_exporter": "python",
   "pygments_lexer": "ipython3",
   "version": "3.8.6"
  }
 },
 "nbformat": 4,
 "nbformat_minor": 4
}
